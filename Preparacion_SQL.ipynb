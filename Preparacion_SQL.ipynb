{
 "cells": [
  {
   "cell_type": "markdown",
   "id": "ceac947d",
   "metadata": {},
   "source": [
    "En el marco de nuestro proyecto de desarrollo de un dashboard en Power Bi para analizar y visualizar la conectividad a Internet en diferentes provincias, hemos llevado a cabo un proceso de extracción y preparación de datos esenciales. Este proyecto se centra en utilizar información clave proveniente de diversas fuentes para proporcionar insights significativos sobre el acceso a Internet fijo en Argentina.\n",
    "\n",
    "Pasos Iniciales:\n",
    "\n",
    "Selección de Datasets Relevantes:\n",
    "\n",
    "Iniciamos extrayendo y evaluando datasets existentes, identificando aquellas fuentes de datos que contienen los KPIs cruciales para nuestro análisis. Estos KPIs han sido cuidadosamente seleccionados para ofrecer una visión integral del estado de la conectividad en diferentes regiones.\n",
    "\n",
    "Creación de la Lista de Provincias y Asignación de IDs:\n",
    "\n",
    "A continuación, crearemos una lista única de las provincias presentes en nuestro primer dataset. Cada provincia sera asignada a un identificador único (ID) para facilitar su manejo y referencia en las etapas posteriores. Este proceso nos permitirá realizar análisis y visualizaciones más efectivas, centrándonos en datos específicos y evitando redundancias."
   ]
  },
  {
   "cell_type": "code",
   "execution_count": 2,
   "id": "81a25b4a",
   "metadata": {},
   "outputs": [],
   "source": [
    "import pandas as pd\n",
    "# carga del archivo:\n",
    "accesos_por_cada_100_habitantes = pd.read_csv('./datasets_cleaned/accesos_por_cada_100_habitantes.csv')"
   ]
  },
  {
   "cell_type": "code",
   "execution_count": 5,
   "id": "fd4675cd",
   "metadata": {},
   "outputs": [
    {
     "data": {
      "text/plain": [
       "Index(['Año', 'Trimestre', 'Provincia', 'Accesos por cada 100 hab'], dtype='object')"
      ]
     },
     "execution_count": 5,
     "metadata": {},
     "output_type": "execute_result"
    }
   ],
   "source": [
    "accesos_por_cada_100_habitantes.columns"
   ]
  },
  {
   "cell_type": "code",
   "execution_count": 8,
   "id": "23407bfd",
   "metadata": {},
   "outputs": [],
   "source": [
    "provincia = accesos_por_cada_100_habitantes['Provincia'].unique()"
   ]
  },
  {
   "cell_type": "code",
   "execution_count": 16,
   "id": "0debe1f6",
   "metadata": {},
   "outputs": [],
   "source": [
    "# Asignar IDs a las provincias\n",
    "provincias_ids = {provincia: idx + 1 for idx, provincia in enumerate(provincia)}\n",
    "\n",
    "# Crear un nuevo DataFrame con ID y Provincia\n",
    "df_provincias = pd.DataFrame(list(provincias_ids.items()), columns=['Provincia','ID'] )\n"
   ]
  },
  {
   "cell_type": "code",
   "execution_count": 17,
   "id": "1fc623e4",
   "metadata": {},
   "outputs": [
    {
     "data": {
      "text/html": [
       "<div>\n",
       "<style scoped>\n",
       "    .dataframe tbody tr th:only-of-type {\n",
       "        vertical-align: middle;\n",
       "    }\n",
       "\n",
       "    .dataframe tbody tr th {\n",
       "        vertical-align: top;\n",
       "    }\n",
       "\n",
       "    .dataframe thead th {\n",
       "        text-align: right;\n",
       "    }\n",
       "</style>\n",
       "<table border=\"1\" class=\"dataframe\">\n",
       "  <thead>\n",
       "    <tr style=\"text-align: right;\">\n",
       "      <th></th>\n",
       "      <th>Provincia</th>\n",
       "      <th>ID</th>\n",
       "    </tr>\n",
       "  </thead>\n",
       "  <tbody>\n",
       "    <tr>\n",
       "      <th>0</th>\n",
       "      <td>Buenos Aires</td>\n",
       "      <td>1</td>\n",
       "    </tr>\n",
       "    <tr>\n",
       "      <th>1</th>\n",
       "      <td>Capital Federal</td>\n",
       "      <td>2</td>\n",
       "    </tr>\n",
       "    <tr>\n",
       "      <th>2</th>\n",
       "      <td>Catamarca</td>\n",
       "      <td>3</td>\n",
       "    </tr>\n",
       "    <tr>\n",
       "      <th>3</th>\n",
       "      <td>Chaco</td>\n",
       "      <td>4</td>\n",
       "    </tr>\n",
       "    <tr>\n",
       "      <th>4</th>\n",
       "      <td>Chubut</td>\n",
       "      <td>5</td>\n",
       "    </tr>\n",
       "    <tr>\n",
       "      <th>5</th>\n",
       "      <td>Córdoba</td>\n",
       "      <td>6</td>\n",
       "    </tr>\n",
       "    <tr>\n",
       "      <th>6</th>\n",
       "      <td>Corrientes</td>\n",
       "      <td>7</td>\n",
       "    </tr>\n",
       "    <tr>\n",
       "      <th>7</th>\n",
       "      <td>Entre Ríos</td>\n",
       "      <td>8</td>\n",
       "    </tr>\n",
       "    <tr>\n",
       "      <th>8</th>\n",
       "      <td>Formosa</td>\n",
       "      <td>9</td>\n",
       "    </tr>\n",
       "    <tr>\n",
       "      <th>9</th>\n",
       "      <td>Jujuy</td>\n",
       "      <td>10</td>\n",
       "    </tr>\n",
       "    <tr>\n",
       "      <th>10</th>\n",
       "      <td>La Pampa</td>\n",
       "      <td>11</td>\n",
       "    </tr>\n",
       "    <tr>\n",
       "      <th>11</th>\n",
       "      <td>La Rioja</td>\n",
       "      <td>12</td>\n",
       "    </tr>\n",
       "    <tr>\n",
       "      <th>12</th>\n",
       "      <td>Mendoza</td>\n",
       "      <td>13</td>\n",
       "    </tr>\n",
       "    <tr>\n",
       "      <th>13</th>\n",
       "      <td>Misiones</td>\n",
       "      <td>14</td>\n",
       "    </tr>\n",
       "    <tr>\n",
       "      <th>14</th>\n",
       "      <td>Neuquén</td>\n",
       "      <td>15</td>\n",
       "    </tr>\n",
       "    <tr>\n",
       "      <th>15</th>\n",
       "      <td>Río Negro</td>\n",
       "      <td>16</td>\n",
       "    </tr>\n",
       "    <tr>\n",
       "      <th>16</th>\n",
       "      <td>Salta</td>\n",
       "      <td>17</td>\n",
       "    </tr>\n",
       "    <tr>\n",
       "      <th>17</th>\n",
       "      <td>San Juan</td>\n",
       "      <td>18</td>\n",
       "    </tr>\n",
       "    <tr>\n",
       "      <th>18</th>\n",
       "      <td>San Luis</td>\n",
       "      <td>19</td>\n",
       "    </tr>\n",
       "    <tr>\n",
       "      <th>19</th>\n",
       "      <td>Santa Cruz</td>\n",
       "      <td>20</td>\n",
       "    </tr>\n",
       "    <tr>\n",
       "      <th>20</th>\n",
       "      <td>Santa Fe</td>\n",
       "      <td>21</td>\n",
       "    </tr>\n",
       "    <tr>\n",
       "      <th>21</th>\n",
       "      <td>Santiago Del Estero</td>\n",
       "      <td>22</td>\n",
       "    </tr>\n",
       "    <tr>\n",
       "      <th>22</th>\n",
       "      <td>Tierra Del Fuego</td>\n",
       "      <td>23</td>\n",
       "    </tr>\n",
       "    <tr>\n",
       "      <th>23</th>\n",
       "      <td>Tucumán</td>\n",
       "      <td>24</td>\n",
       "    </tr>\n",
       "  </tbody>\n",
       "</table>\n",
       "</div>"
      ],
      "text/plain": [
       "              Provincia  ID\n",
       "0          Buenos Aires   1\n",
       "1       Capital Federal   2\n",
       "2             Catamarca   3\n",
       "3                 Chaco   4\n",
       "4                Chubut   5\n",
       "5               Córdoba   6\n",
       "6            Corrientes   7\n",
       "7            Entre Ríos   8\n",
       "8               Formosa   9\n",
       "9                 Jujuy  10\n",
       "10             La Pampa  11\n",
       "11             La Rioja  12\n",
       "12              Mendoza  13\n",
       "13             Misiones  14\n",
       "14              Neuquén  15\n",
       "15            Río Negro  16\n",
       "16                Salta  17\n",
       "17             San Juan  18\n",
       "18             San Luis  19\n",
       "19           Santa Cruz  20\n",
       "20             Santa Fe  21\n",
       "21  Santiago Del Estero  22\n",
       "22     Tierra Del Fuego  23\n",
       "23              Tucumán  24"
      ]
     },
     "execution_count": 17,
     "metadata": {},
     "output_type": "execute_result"
    }
   ],
   "source": [
    "df_provincias"
   ]
  },
  {
   "cell_type": "markdown",
   "id": "3823006c",
   "metadata": {},
   "source": [
    "## Penetración del Internet fijo por provincia (accesos por cada 100 habitantes)"
   ]
  },
  {
   "cell_type": "code",
   "execution_count": 13,
   "id": "02ddcd14",
   "metadata": {},
   "outputs": [
    {
     "data": {
      "text/html": [
       "<div>\n",
       "<style scoped>\n",
       "    .dataframe tbody tr th:only-of-type {\n",
       "        vertical-align: middle;\n",
       "    }\n",
       "\n",
       "    .dataframe tbody tr th {\n",
       "        vertical-align: top;\n",
       "    }\n",
       "\n",
       "    .dataframe thead th {\n",
       "        text-align: right;\n",
       "    }\n",
       "</style>\n",
       "<table border=\"1\" class=\"dataframe\">\n",
       "  <thead>\n",
       "    <tr style=\"text-align: right;\">\n",
       "      <th></th>\n",
       "      <th>Año</th>\n",
       "      <th>Trimestre</th>\n",
       "      <th>Provincia</th>\n",
       "      <th>Accesos por cada 100 hab</th>\n",
       "    </tr>\n",
       "  </thead>\n",
       "  <tbody>\n",
       "    <tr>\n",
       "      <th>0</th>\n",
       "      <td>2022</td>\n",
       "      <td>4</td>\n",
       "      <td>Buenos Aires</td>\n",
       "      <td>26.72</td>\n",
       "    </tr>\n",
       "    <tr>\n",
       "      <th>1</th>\n",
       "      <td>2022</td>\n",
       "      <td>4</td>\n",
       "      <td>Capital Federal</td>\n",
       "      <td>50.35</td>\n",
       "    </tr>\n",
       "    <tr>\n",
       "      <th>2</th>\n",
       "      <td>2022</td>\n",
       "      <td>4</td>\n",
       "      <td>Catamarca</td>\n",
       "      <td>16.73</td>\n",
       "    </tr>\n",
       "  </tbody>\n",
       "</table>\n",
       "</div>"
      ],
      "text/plain": [
       "    Año  Trimestre        Provincia  Accesos por cada 100 hab\n",
       "0  2022          4     Buenos Aires                     26.72\n",
       "1  2022          4  Capital Federal                     50.35\n",
       "2  2022          4        Catamarca                     16.73"
      ]
     },
     "execution_count": 13,
     "metadata": {},
     "output_type": "execute_result"
    }
   ],
   "source": [
    "accesos_por_cada_100_habitantes.head(3)"
   ]
  },
  {
   "cell_type": "code",
   "execution_count": 18,
   "id": "51719f8d",
   "metadata": {},
   "outputs": [],
   "source": [
    "# Fusionar el DataFrame con 'df_provincias'\n",
    "df1 = pd.merge(accesos_por_cada_100_habitantes, df_provincias, how='left', on='Provincia')"
   ]
  },
  {
   "cell_type": "code",
   "execution_count": 19,
   "id": "3fb2bf41",
   "metadata": {},
   "outputs": [],
   "source": [
    "# Eliminar la columna 'Provincia'\n",
    "df1.drop(columns='Provincia', inplace=True)"
   ]
  },
  {
   "cell_type": "code",
   "execution_count": 252,
   "id": "50238fbf",
   "metadata": {},
   "outputs": [],
   "source": [
    "# Renombrar la columna 'id' a 'id_provincia'\n",
    "df1.rename( columns={'ID':'id_provincia'}, inplace=True)\n",
    "df1.rename(columns={'Accesos por cada 100 hab': 'Accesos_por_cada_100_hab'}, inplace=True)"
   ]
  },
  {
   "cell_type": "code",
   "execution_count": 253,
   "id": "adef4fe1",
   "metadata": {},
   "outputs": [
    {
     "data": {
      "text/html": [
       "<div>\n",
       "<style scoped>\n",
       "    .dataframe tbody tr th:only-of-type {\n",
       "        vertical-align: middle;\n",
       "    }\n",
       "\n",
       "    .dataframe tbody tr th {\n",
       "        vertical-align: top;\n",
       "    }\n",
       "\n",
       "    .dataframe thead th {\n",
       "        text-align: right;\n",
       "    }\n",
       "</style>\n",
       "<table border=\"1\" class=\"dataframe\">\n",
       "  <thead>\n",
       "    <tr style=\"text-align: right;\">\n",
       "      <th></th>\n",
       "      <th>Año</th>\n",
       "      <th>Trimestre</th>\n",
       "      <th>Accesos_por_cada_100_hab</th>\n",
       "      <th>id_provincia</th>\n",
       "    </tr>\n",
       "  </thead>\n",
       "  <tbody>\n",
       "    <tr>\n",
       "      <th>0</th>\n",
       "      <td>2022</td>\n",
       "      <td>4</td>\n",
       "      <td>26.72</td>\n",
       "      <td>1</td>\n",
       "    </tr>\n",
       "    <tr>\n",
       "      <th>1</th>\n",
       "      <td>2022</td>\n",
       "      <td>4</td>\n",
       "      <td>50.35</td>\n",
       "      <td>2</td>\n",
       "    </tr>\n",
       "    <tr>\n",
       "      <th>2</th>\n",
       "      <td>2022</td>\n",
       "      <td>4</td>\n",
       "      <td>16.73</td>\n",
       "      <td>3</td>\n",
       "    </tr>\n",
       "  </tbody>\n",
       "</table>\n",
       "</div>"
      ],
      "text/plain": [
       "    Año  Trimestre  Accesos_por_cada_100_hab  id_provincia\n",
       "0  2022          4                     26.72             1\n",
       "1  2022          4                     50.35             2\n",
       "2  2022          4                     16.73             3"
      ]
     },
     "execution_count": 253,
     "metadata": {},
     "output_type": "execute_result"
    }
   ],
   "source": [
    "df1.head(3)"
   ]
  },
  {
   "cell_type": "code",
   "execution_count": 254,
   "id": "71614e65",
   "metadata": {},
   "outputs": [
    {
     "name": "stdout",
     "output_type": "stream",
     "text": [
      "<class 'pandas.core.frame.DataFrame'>\n",
      "Int64Index: 864 entries, 0 to 863\n",
      "Data columns (total 4 columns):\n",
      " #   Column                    Non-Null Count  Dtype  \n",
      "---  ------                    --------------  -----  \n",
      " 0   Año                       864 non-null    int64  \n",
      " 1   Trimestre                 864 non-null    int64  \n",
      " 2   Accesos_por_cada_100_hab  864 non-null    float64\n",
      " 3   id_provincia              864 non-null    int64  \n",
      "dtypes: float64(1), int64(3)\n",
      "memory usage: 33.8 KB\n"
     ]
    }
   ],
   "source": [
    "df1.info()"
   ]
  },
  {
   "cell_type": "code",
   "execution_count": 256,
   "id": "e298267e",
   "metadata": {},
   "outputs": [],
   "source": [
    "# Guardar el DataFrame en un archivo CSV\n",
    "df1.to_csv('./datasets_SQL/accesos_por_cada_100_habitantes.csv', index=False)"
   ]
  },
  {
   "cell_type": "markdown",
   "id": "252bb562",
   "metadata": {},
   "source": [
    "# **Penetración del Internet fijo por provincia (accesos por cada 100 hogares)**"
   ]
  },
  {
   "cell_type": "code",
   "execution_count": 24,
   "id": "fb947f98",
   "metadata": {},
   "outputs": [],
   "source": [
    "# carga del archivo:\n",
    "accesos_por_cada_100_hogares = pd.read_csv('./datasets_cleaned/accesos_por_cada_100_hogares.csv')"
   ]
  },
  {
   "cell_type": "code",
   "execution_count": 25,
   "id": "5bbea2f0",
   "metadata": {},
   "outputs": [],
   "source": [
    "# Fusionar el DataFrame con 'df_provincias'\n",
    "df2 = pd.merge(accesos_por_cada_100_hogares, df_provincias, how='left', on='Provincia')"
   ]
  },
  {
   "cell_type": "code",
   "execution_count": 26,
   "id": "0577f02e",
   "metadata": {},
   "outputs": [],
   "source": [
    "# Eliminar la columna 'Provincia'\n",
    "df2.drop(columns='Provincia', inplace=True)"
   ]
  },
  {
   "cell_type": "code",
   "execution_count": 246,
   "id": "b14c7572",
   "metadata": {},
   "outputs": [],
   "source": [
    "# Renombrar la columna 'id' a 'id_provincia'\n",
    "df2.rename( columns={'ID':'id_provincia'}, inplace=True)\n",
    "df2.rename(columns={'Año': 'year'}, inplace=True)\n",
    "df2.rename(columns={'Accesos por cada 100 hogares': 'Accesos_por_cada_100_hogares'}, inplace=True)"
   ]
  },
  {
   "cell_type": "code",
   "execution_count": 247,
   "id": "ef0259a4",
   "metadata": {},
   "outputs": [
    {
     "data": {
      "text/plain": [
       "Index(['year', 'Trimestre', 'Accesos_por_cada_100_hogares', 'id_provincia'], dtype='object')"
      ]
     },
     "execution_count": 247,
     "metadata": {},
     "output_type": "execute_result"
    }
   ],
   "source": [
    "df2.columns"
   ]
  },
  {
   "cell_type": "code",
   "execution_count": 248,
   "id": "4abbbf80",
   "metadata": {},
   "outputs": [
    {
     "data": {
      "text/html": [
       "<div>\n",
       "<style scoped>\n",
       "    .dataframe tbody tr th:only-of-type {\n",
       "        vertical-align: middle;\n",
       "    }\n",
       "\n",
       "    .dataframe tbody tr th {\n",
       "        vertical-align: top;\n",
       "    }\n",
       "\n",
       "    .dataframe thead th {\n",
       "        text-align: right;\n",
       "    }\n",
       "</style>\n",
       "<table border=\"1\" class=\"dataframe\">\n",
       "  <thead>\n",
       "    <tr style=\"text-align: right;\">\n",
       "      <th></th>\n",
       "      <th>year</th>\n",
       "      <th>Trimestre</th>\n",
       "      <th>Accesos_por_cada_100_hogares</th>\n",
       "      <th>id_provincia</th>\n",
       "    </tr>\n",
       "  </thead>\n",
       "  <tbody>\n",
       "    <tr>\n",
       "      <th>0</th>\n",
       "      <td>2022</td>\n",
       "      <td>4</td>\n",
       "      <td>78.94</td>\n",
       "      <td>1</td>\n",
       "    </tr>\n",
       "    <tr>\n",
       "      <th>1</th>\n",
       "      <td>2022</td>\n",
       "      <td>4</td>\n",
       "      <td>122.73</td>\n",
       "      <td>2</td>\n",
       "    </tr>\n",
       "    <tr>\n",
       "      <th>2</th>\n",
       "      <td>2022</td>\n",
       "      <td>4</td>\n",
       "      <td>65.77</td>\n",
       "      <td>3</td>\n",
       "    </tr>\n",
       "  </tbody>\n",
       "</table>\n",
       "</div>"
      ],
      "text/plain": [
       "   year  Trimestre  Accesos_por_cada_100_hogares  id_provincia\n",
       "0  2022          4                         78.94             1\n",
       "1  2022          4                        122.73             2\n",
       "2  2022          4                         65.77             3"
      ]
     },
     "execution_count": 248,
     "metadata": {},
     "output_type": "execute_result"
    }
   ],
   "source": [
    "df2.head(3)"
   ]
  },
  {
   "cell_type": "code",
   "execution_count": 38,
   "id": "25e487eb",
   "metadata": {},
   "outputs": [
    {
     "name": "stdout",
     "output_type": "stream",
     "text": [
      "<class 'pandas.core.frame.DataFrame'>\n",
      "Int64Index: 864 entries, 0 to 863\n",
      "Data columns (total 4 columns):\n",
      " #   Column                        Non-Null Count  Dtype  \n",
      "---  ------                        --------------  -----  \n",
      " 0   Año                           864 non-null    int64  \n",
      " 1   Trimestre                     864 non-null    int64  \n",
      " 2   Accesos por cada 100 hogares  864 non-null    float64\n",
      " 3   ID                            864 non-null    int64  \n",
      "dtypes: float64(1), int64(3)\n",
      "memory usage: 33.8 KB\n"
     ]
    }
   ],
   "source": [
    "df2.info()"
   ]
  },
  {
   "cell_type": "code",
   "execution_count": 271,
   "id": "19a72470",
   "metadata": {},
   "outputs": [],
   "source": [
    "# Guardar el DataFrame en un archivo CSV\n",
    "df2.to_csv('./datasets_SQL/accesos_por_cada_100_hogares.csv', index=False)"
   ]
  },
  {
   "cell_type": "markdown",
   "id": "206d7a84",
   "metadata": {},
   "source": [
    "# **Acceso a Internet Fijo por rangos de velocidad de bajada y provincia**  "
   ]
  },
  {
   "cell_type": "code",
   "execution_count": 264,
   "id": "06ceb9b7",
   "metadata": {},
   "outputs": [],
   "source": [
    "# carga del archivo:\n",
    "acceso_rangos_velocidad_de_bajada_y_provincia  = pd.read_csv('./datasets_cleaned/acceso_rangos_velocidad_de_bajada_y_provincia.csv')"
   ]
  },
  {
   "cell_type": "code",
   "execution_count": 265,
   "id": "31d6d9c7",
   "metadata": {},
   "outputs": [],
   "source": [
    "# Fusionar el DataFrame con 'df_provincias'\n",
    "df3 = pd.merge(acceso_rangos_velocidad_de_bajada_y_provincia, df_provincias, how='left', on='Provincia')"
   ]
  },
  {
   "cell_type": "code",
   "execution_count": 266,
   "id": "9519f067",
   "metadata": {},
   "outputs": [],
   "source": [
    "# Eliminar la columna 'Provincia'\n",
    "df3.drop(columns='Provincia', inplace=True)"
   ]
  },
  {
   "cell_type": "code",
   "execution_count": 267,
   "id": "c2cd2447",
   "metadata": {},
   "outputs": [],
   "source": [
    "# Renombrar la columna 'id' a 'id_provincia'\n",
    "df3.rename( columns={'ID':'id_provincia'}, inplace=True)"
   ]
  },
  {
   "cell_type": "code",
   "execution_count": 268,
   "id": "fdbd4b35",
   "metadata": {},
   "outputs": [
    {
     "data": {
      "text/html": [
       "<div>\n",
       "<style scoped>\n",
       "    .dataframe tbody tr th:only-of-type {\n",
       "        vertical-align: middle;\n",
       "    }\n",
       "\n",
       "    .dataframe tbody tr th {\n",
       "        vertical-align: top;\n",
       "    }\n",
       "\n",
       "    .dataframe thead th {\n",
       "        text-align: right;\n",
       "    }\n",
       "</style>\n",
       "<table border=\"1\" class=\"dataframe\">\n",
       "  <thead>\n",
       "    <tr style=\"text-align: right;\">\n",
       "      <th></th>\n",
       "      <th>Año</th>\n",
       "      <th>Trimestre</th>\n",
       "      <th>HASTA 512 kbps</th>\n",
       "      <th>+ 512 Kbps - 1 Mbps</th>\n",
       "      <th>+ 1 Mbps - 6 Mbps</th>\n",
       "      <th>+ 6 Mbps - 10 Mbps</th>\n",
       "      <th>+ 10 Mbps - 20 Mbps</th>\n",
       "      <th>+ 20 Mbps - 30 Mbps</th>\n",
       "      <th>+ 30 Mbps</th>\n",
       "      <th>OTROS</th>\n",
       "      <th>Total</th>\n",
       "      <th>id_provincia</th>\n",
       "    </tr>\n",
       "  </thead>\n",
       "  <tbody>\n",
       "    <tr>\n",
       "      <th>0</th>\n",
       "      <td>2022</td>\n",
       "      <td>4</td>\n",
       "      <td>28934.0</td>\n",
       "      <td>23347.0</td>\n",
       "      <td>259866.0</td>\n",
       "      <td>281550.0</td>\n",
       "      <td>244555.0</td>\n",
       "      <td>98670.0</td>\n",
       "      <td>3760109.0</td>\n",
       "      <td>97634.0</td>\n",
       "      <td>4794665.0</td>\n",
       "      <td>1</td>\n",
       "    </tr>\n",
       "    <tr>\n",
       "      <th>1</th>\n",
       "      <td>2022</td>\n",
       "      <td>4</td>\n",
       "      <td>516.0</td>\n",
       "      <td>5096.0</td>\n",
       "      <td>31320.0</td>\n",
       "      <td>64653.0</td>\n",
       "      <td>36336.0</td>\n",
       "      <td>8116.0</td>\n",
       "      <td>1299117.0</td>\n",
       "      <td>106772.0</td>\n",
       "      <td>1551926.0</td>\n",
       "      <td>2</td>\n",
       "    </tr>\n",
       "    <tr>\n",
       "      <th>2</th>\n",
       "      <td>2022</td>\n",
       "      <td>4</td>\n",
       "      <td>71.0</td>\n",
       "      <td>315.0</td>\n",
       "      <td>2716.0</td>\n",
       "      <td>5028.0</td>\n",
       "      <td>4638.0</td>\n",
       "      <td>3122.0</td>\n",
       "      <td>52739.0</td>\n",
       "      <td>2280.0</td>\n",
       "      <td>70909.0</td>\n",
       "      <td>3</td>\n",
       "    </tr>\n",
       "  </tbody>\n",
       "</table>\n",
       "</div>"
      ],
      "text/plain": [
       "    Año  Trimestre  HASTA 512 kbps  + 512 Kbps - 1 Mbps  + 1 Mbps - 6 Mbps  \\\n",
       "0  2022          4         28934.0              23347.0           259866.0   \n",
       "1  2022          4           516.0               5096.0            31320.0   \n",
       "2  2022          4            71.0                315.0             2716.0   \n",
       "\n",
       "   + 6 Mbps - 10 Mbps  + 10 Mbps - 20 Mbps  + 20 Mbps - 30 Mbps  + 30 Mbps  \\\n",
       "0            281550.0             244555.0              98670.0  3760109.0   \n",
       "1             64653.0              36336.0               8116.0  1299117.0   \n",
       "2              5028.0               4638.0               3122.0    52739.0   \n",
       "\n",
       "      OTROS      Total  id_provincia  \n",
       "0   97634.0  4794665.0             1  \n",
       "1  106772.0  1551926.0             2  \n",
       "2    2280.0    70909.0             3  "
      ]
     },
     "execution_count": 268,
     "metadata": {},
     "output_type": "execute_result"
    }
   ],
   "source": [
    "df3.head(3)"
   ]
  },
  {
   "cell_type": "code",
   "execution_count": 274,
   "id": "4078df66",
   "metadata": {},
   "outputs": [
    {
     "data": {
      "text/plain": [
       "Index(['Año', 'Trimestre', 'HASTA 512 kbps', '+ 512 Kbps - 1 Mbps',\n",
       "       '+ 1 Mbps - 6 Mbps', '+ 6 Mbps - 10 Mbps', '+ 10 Mbps - 20 Mbps',\n",
       "       '+ 20 Mbps - 30 Mbps', '+ 30 Mbps', 'OTROS', 'Total', 'id_provincia'],\n",
       "      dtype='object')"
      ]
     },
     "execution_count": 274,
     "metadata": {},
     "output_type": "execute_result"
    }
   ],
   "source": [
    "df3.columns"
   ]
  },
  {
   "cell_type": "code",
   "execution_count": 269,
   "id": "62d3059d",
   "metadata": {},
   "outputs": [
    {
     "name": "stdout",
     "output_type": "stream",
     "text": [
      "<class 'pandas.core.frame.DataFrame'>\n",
      "Int64Index: 856 entries, 0 to 855\n",
      "Data columns (total 12 columns):\n",
      " #   Column               Non-Null Count  Dtype  \n",
      "---  ------               --------------  -----  \n",
      " 0   Año                  856 non-null    int64  \n",
      " 1   Trimestre            856 non-null    int64  \n",
      " 2   HASTA 512 kbps       856 non-null    float64\n",
      " 3   + 512 Kbps - 1 Mbps  856 non-null    float64\n",
      " 4   + 1 Mbps - 6 Mbps    856 non-null    float64\n",
      " 5   + 6 Mbps - 10 Mbps   856 non-null    float64\n",
      " 6   + 10 Mbps - 20 Mbps  856 non-null    float64\n",
      " 7   + 20 Mbps - 30 Mbps  856 non-null    float64\n",
      " 8   + 30 Mbps            856 non-null    float64\n",
      " 9   OTROS                856 non-null    float64\n",
      " 10  Total                856 non-null    float64\n",
      " 11  id_provincia         856 non-null    int64  \n",
      "dtypes: float64(9), int64(3)\n",
      "memory usage: 86.9 KB\n"
     ]
    }
   ],
   "source": [
    "df3.info()"
   ]
  },
  {
   "cell_type": "code",
   "execution_count": 273,
   "id": "fac77cb7",
   "metadata": {},
   "outputs": [],
   "source": [
    "# Guardar el DataFrame en un archivo CSV\n",
    "df3.to_csv('./datasets_SQL/acceso_rangos_velocidad_de_bajada_y_provincia.csv', index=False)"
   ]
  },
  {
   "cell_type": "markdown",
   "id": "66dd7f8e",
   "metadata": {},
   "source": [
    "# **Velocidad media de bajada de Internet fijo por provincia**  "
   ]
  },
  {
   "cell_type": "code",
   "execution_count": 41,
   "id": "ab843380",
   "metadata": {},
   "outputs": [],
   "source": [
    "# carga del archivo:\n",
    "velocidad_media_de_bajada_por_provincia = pd.read_csv('datasets_cleaned/velocidad_media_de_bajada_por_provincia.csv')"
   ]
  },
  {
   "cell_type": "code",
   "execution_count": 42,
   "id": "e012cf49",
   "metadata": {},
   "outputs": [],
   "source": [
    "# Fusionar el DataFrame con 'df_provincias'\n",
    "df4 = pd.merge(velocidad_media_de_bajada_por_provincia, df_provincias, how='left', on='Provincia')"
   ]
  },
  {
   "cell_type": "code",
   "execution_count": 43,
   "id": "409dfe0c",
   "metadata": {},
   "outputs": [],
   "source": [
    "# Eliminar la columna 'Provincia'\n",
    "df4.drop(columns='Provincia', inplace=True)"
   ]
  },
  {
   "cell_type": "code",
   "execution_count": 275,
   "id": "6f193956",
   "metadata": {},
   "outputs": [],
   "source": [
    "# Renombrar la columna 'id' a 'id_provincia'\n",
    "df4.rename( columns={'ID':'id_provincia'}, inplace=True)"
   ]
  },
  {
   "cell_type": "code",
   "execution_count": 276,
   "id": "99b6af90",
   "metadata": {},
   "outputs": [
    {
     "data": {
      "text/html": [
       "<div>\n",
       "<style scoped>\n",
       "    .dataframe tbody tr th:only-of-type {\n",
       "        vertical-align: middle;\n",
       "    }\n",
       "\n",
       "    .dataframe tbody tr th {\n",
       "        vertical-align: top;\n",
       "    }\n",
       "\n",
       "    .dataframe thead th {\n",
       "        text-align: right;\n",
       "    }\n",
       "</style>\n",
       "<table border=\"1\" class=\"dataframe\">\n",
       "  <thead>\n",
       "    <tr style=\"text-align: right;\">\n",
       "      <th></th>\n",
       "      <th>Año</th>\n",
       "      <th>Trimestre</th>\n",
       "      <th>Mbps (Media de bajada)</th>\n",
       "      <th>id_provincia</th>\n",
       "    </tr>\n",
       "  </thead>\n",
       "  <tbody>\n",
       "    <tr>\n",
       "      <th>0</th>\n",
       "      <td>2022</td>\n",
       "      <td>4</td>\n",
       "      <td>111.00</td>\n",
       "      <td>1</td>\n",
       "    </tr>\n",
       "    <tr>\n",
       "      <th>1</th>\n",
       "      <td>2022</td>\n",
       "      <td>4</td>\n",
       "      <td>182.86</td>\n",
       "      <td>2</td>\n",
       "    </tr>\n",
       "    <tr>\n",
       "      <th>2</th>\n",
       "      <td>2022</td>\n",
       "      <td>4</td>\n",
       "      <td>83.33</td>\n",
       "      <td>3</td>\n",
       "    </tr>\n",
       "  </tbody>\n",
       "</table>\n",
       "</div>"
      ],
      "text/plain": [
       "    Año  Trimestre  Mbps (Media de bajada)  id_provincia\n",
       "0  2022          4                  111.00             1\n",
       "1  2022          4                  182.86             2\n",
       "2  2022          4                   83.33             3"
      ]
     },
     "execution_count": 276,
     "metadata": {},
     "output_type": "execute_result"
    }
   ],
   "source": [
    "df4.head(3)"
   ]
  },
  {
   "cell_type": "code",
   "execution_count": 277,
   "id": "9ce7b7f2",
   "metadata": {},
   "outputs": [
    {
     "name": "stdout",
     "output_type": "stream",
     "text": [
      "<class 'pandas.core.frame.DataFrame'>\n",
      "Int64Index: 864 entries, 0 to 863\n",
      "Data columns (total 4 columns):\n",
      " #   Column                  Non-Null Count  Dtype  \n",
      "---  ------                  --------------  -----  \n",
      " 0   Año                     864 non-null    int64  \n",
      " 1   Trimestre               864 non-null    int64  \n",
      " 2   Mbps (Media de bajada)  864 non-null    float64\n",
      " 3   id_provincia            864 non-null    int64  \n",
      "dtypes: float64(1), int64(3)\n",
      "memory usage: 33.8 KB\n"
     ]
    }
   ],
   "source": [
    "df4.info()"
   ]
  },
  {
   "cell_type": "code",
   "execution_count": 279,
   "id": "80a368b6",
   "metadata": {},
   "outputs": [],
   "source": [
    "# Guardar el DataFrame en un archivo CSV\n",
    "df4.to_csv('./datasets_SQL/velocidad_media_de_bajada_por_provincia.csv', index=False)"
   ]
  },
  {
   "cell_type": "markdown",
   "id": "14233b38",
   "metadata": {},
   "source": [
    "# **Acceso a Internet fijo por tecnología y provincia**  "
   ]
  },
  {
   "cell_type": "code",
   "execution_count": 48,
   "id": "2d366325",
   "metadata": {},
   "outputs": [],
   "source": [
    "acceso_a_internet_fijo_por_tecnologia_y_provincia = pd.read_csv('datasets_cleaned/acceso_a_internet_fijo_por_tecnologia_y_provincia.csv')"
   ]
  },
  {
   "cell_type": "code",
   "execution_count": 49,
   "id": "acaddf5b",
   "metadata": {},
   "outputs": [],
   "source": [
    "# Fusionar el DataFrame con 'df_provincias'\n",
    "df5 = pd.merge(acceso_a_internet_fijo_por_tecnologia_y_provincia, df_provincias, how='left', on='Provincia')"
   ]
  },
  {
   "cell_type": "code",
   "execution_count": 50,
   "id": "d8a858ab",
   "metadata": {},
   "outputs": [],
   "source": [
    "# Eliminar la columna 'Provincia'\n",
    "df5.drop(columns='Provincia', inplace=True)"
   ]
  },
  {
   "cell_type": "code",
   "execution_count": 280,
   "id": "ffacf2d9",
   "metadata": {},
   "outputs": [],
   "source": [
    "# Renombrar la columna 'id' a 'id_provincia'\n",
    "df5.rename( columns={'ID':'id_provincia'}, inplace=True)"
   ]
  },
  {
   "cell_type": "code",
   "execution_count": 281,
   "id": "27a944c3",
   "metadata": {},
   "outputs": [
    {
     "data": {
      "text/html": [
       "<div>\n",
       "<style scoped>\n",
       "    .dataframe tbody tr th:only-of-type {\n",
       "        vertical-align: middle;\n",
       "    }\n",
       "\n",
       "    .dataframe tbody tr th {\n",
       "        vertical-align: top;\n",
       "    }\n",
       "\n",
       "    .dataframe thead th {\n",
       "        text-align: right;\n",
       "    }\n",
       "</style>\n",
       "<table border=\"1\" class=\"dataframe\">\n",
       "  <thead>\n",
       "    <tr style=\"text-align: right;\">\n",
       "      <th></th>\n",
       "      <th>Año</th>\n",
       "      <th>Trimestre</th>\n",
       "      <th>ADSL</th>\n",
       "      <th>Cablemodem</th>\n",
       "      <th>Fibra óptica</th>\n",
       "      <th>Wireless</th>\n",
       "      <th>Otros</th>\n",
       "      <th>Total</th>\n",
       "      <th>id_provincia</th>\n",
       "    </tr>\n",
       "  </thead>\n",
       "  <tbody>\n",
       "    <tr>\n",
       "      <th>0</th>\n",
       "      <td>2022</td>\n",
       "      <td>4</td>\n",
       "      <td>325908.0</td>\n",
       "      <td>2767247.0</td>\n",
       "      <td>1499149.0</td>\n",
       "      <td>129910.0</td>\n",
       "      <td>72451.0</td>\n",
       "      <td>4794665.0</td>\n",
       "      <td>1</td>\n",
       "    </tr>\n",
       "    <tr>\n",
       "      <th>1</th>\n",
       "      <td>2022</td>\n",
       "      <td>4</td>\n",
       "      <td>138753.0</td>\n",
       "      <td>1238196.0</td>\n",
       "      <td>138548.0</td>\n",
       "      <td>4603.0</td>\n",
       "      <td>31826.0</td>\n",
       "      <td>1551926.0</td>\n",
       "      <td>2</td>\n",
       "    </tr>\n",
       "    <tr>\n",
       "      <th>2</th>\n",
       "      <td>2022</td>\n",
       "      <td>4</td>\n",
       "      <td>8952.0</td>\n",
       "      <td>10998.0</td>\n",
       "      <td>47337.0</td>\n",
       "      <td>1379.0</td>\n",
       "      <td>2243.0</td>\n",
       "      <td>70909.0</td>\n",
       "      <td>3</td>\n",
       "    </tr>\n",
       "  </tbody>\n",
       "</table>\n",
       "</div>"
      ],
      "text/plain": [
       "    Año  Trimestre      ADSL  Cablemodem  Fibra óptica  Wireless    Otros  \\\n",
       "0  2022          4  325908.0   2767247.0     1499149.0  129910.0  72451.0   \n",
       "1  2022          4  138753.0   1238196.0      138548.0    4603.0  31826.0   \n",
       "2  2022          4    8952.0     10998.0       47337.0    1379.0   2243.0   \n",
       "\n",
       "       Total  id_provincia  \n",
       "0  4794665.0             1  \n",
       "1  1551926.0             2  \n",
       "2    70909.0             3  "
      ]
     },
     "execution_count": 281,
     "metadata": {},
     "output_type": "execute_result"
    }
   ],
   "source": [
    "df5.head(3)"
   ]
  },
  {
   "cell_type": "code",
   "execution_count": 53,
   "id": "4c27bb90",
   "metadata": {},
   "outputs": [
    {
     "name": "stdout",
     "output_type": "stream",
     "text": [
      "<class 'pandas.core.frame.DataFrame'>\n",
      "Int64Index: 864 entries, 0 to 863\n",
      "Data columns (total 9 columns):\n",
      " #   Column        Non-Null Count  Dtype  \n",
      "---  ------        --------------  -----  \n",
      " 0   Año           864 non-null    int64  \n",
      " 1   Trimestre     864 non-null    int64  \n",
      " 2   ADSL          864 non-null    float64\n",
      " 3   Cablemodem    864 non-null    float64\n",
      " 4   Fibra óptica  864 non-null    float64\n",
      " 5   Wireless      864 non-null    float64\n",
      " 6   Otros         864 non-null    float64\n",
      " 7   Total         864 non-null    float64\n",
      " 8   ID            864 non-null    int64  \n",
      "dtypes: float64(6), int64(3)\n",
      "memory usage: 67.5 KB\n"
     ]
    }
   ],
   "source": [
    "df5.info()"
   ]
  },
  {
   "cell_type": "code",
   "execution_count": 283,
   "id": "cb0adedc",
   "metadata": {},
   "outputs": [],
   "source": [
    "# Guardar el DataFrame en un archivo CSV\n",
    "df5.to_csv('./datasets_SQL/acceso_a_internet_fijo_por_tecnologia_y_provincia.csv', index=False)"
   ]
  },
  {
   "cell_type": "markdown",
   "id": "ccb2c0fc",
   "metadata": {},
   "source": [
    "# **Accesos a banda ancha y banda angosta por provincia**"
   ]
  },
  {
   "cell_type": "code",
   "execution_count": 157,
   "id": "c6beab80",
   "metadata": {},
   "outputs": [],
   "source": [
    "# carga del archivo:\n",
    "accesos_a_banda_ancha_y_banda_angosta_por_provincia = pd.read_csv('datasets_cleaned/accesos_a_banda_ancha_y_banda_angosta_por_provincia.csv')"
   ]
  },
  {
   "cell_type": "code",
   "execution_count": 158,
   "id": "840e74f6",
   "metadata": {},
   "outputs": [],
   "source": [
    "# Fusionar el DataFrame con 'df_provincias'\n",
    "df6 = pd.merge(accesos_a_banda_ancha_y_banda_angosta_por_provincia, df_provincias, how='left', on='Provincia')"
   ]
  },
  {
   "cell_type": "code",
   "execution_count": 159,
   "id": "c08a72d6",
   "metadata": {},
   "outputs": [],
   "source": [
    "# Eliminar la columna 'Provincia'\n",
    "df6.drop(columns='Provincia', inplace=True)"
   ]
  },
  {
   "cell_type": "code",
   "execution_count": 284,
   "id": "dabd7b0f",
   "metadata": {},
   "outputs": [],
   "source": [
    "# Renombrar la columna 'id' a 'id_provincia'\n",
    "df6.rename( columns={'ID':'id_provincia'}, inplace=True)"
   ]
  },
  {
   "cell_type": "code",
   "execution_count": 285,
   "id": "67506503",
   "metadata": {},
   "outputs": [
    {
     "data": {
      "text/html": [
       "<div>\n",
       "<style scoped>\n",
       "    .dataframe tbody tr th:only-of-type {\n",
       "        vertical-align: middle;\n",
       "    }\n",
       "\n",
       "    .dataframe tbody tr th {\n",
       "        vertical-align: top;\n",
       "    }\n",
       "\n",
       "    .dataframe thead th {\n",
       "        text-align: right;\n",
       "    }\n",
       "</style>\n",
       "<table border=\"1\" class=\"dataframe\">\n",
       "  <thead>\n",
       "    <tr style=\"text-align: right;\">\n",
       "      <th></th>\n",
       "      <th>Año</th>\n",
       "      <th>Trimestre</th>\n",
       "      <th>Banda ancha fija</th>\n",
       "      <th>Dial up</th>\n",
       "      <th>Total</th>\n",
       "      <th>id_provincia</th>\n",
       "    </tr>\n",
       "  </thead>\n",
       "  <tbody>\n",
       "    <tr>\n",
       "      <th>0</th>\n",
       "      <td>2022</td>\n",
       "      <td>4</td>\n",
       "      <td>4788466</td>\n",
       "      <td>6199.0</td>\n",
       "      <td>4794665</td>\n",
       "      <td>1</td>\n",
       "    </tr>\n",
       "    <tr>\n",
       "      <th>1</th>\n",
       "      <td>2022</td>\n",
       "      <td>4</td>\n",
       "      <td>1549781</td>\n",
       "      <td>2145.0</td>\n",
       "      <td>1551926</td>\n",
       "      <td>2</td>\n",
       "    </tr>\n",
       "    <tr>\n",
       "      <th>2</th>\n",
       "      <td>2022</td>\n",
       "      <td>4</td>\n",
       "      <td>70908</td>\n",
       "      <td>1.0</td>\n",
       "      <td>70909</td>\n",
       "      <td>3</td>\n",
       "    </tr>\n",
       "  </tbody>\n",
       "</table>\n",
       "</div>"
      ],
      "text/plain": [
       "    Año  Trimestre  Banda ancha fija  Dial up    Total  id_provincia\n",
       "0  2022          4           4788466   6199.0  4794665             1\n",
       "1  2022          4           1549781   2145.0  1551926             2\n",
       "2  2022          4             70908      1.0    70909             3"
      ]
     },
     "execution_count": 285,
     "metadata": {},
     "output_type": "execute_result"
    }
   ],
   "source": [
    "df6.head(3)"
   ]
  },
  {
   "cell_type": "code",
   "execution_count": 288,
   "id": "e7948dc4",
   "metadata": {},
   "outputs": [
    {
     "data": {
      "text/plain": [
       "Index(['Año', 'Trimestre', 'Banda ancha fija', 'Dial up', 'Total',\n",
       "       'id_provincia'],\n",
       "      dtype='object')"
      ]
     },
     "execution_count": 288,
     "metadata": {},
     "output_type": "execute_result"
    }
   ],
   "source": [
    "df6.columns"
   ]
  },
  {
   "cell_type": "code",
   "execution_count": 162,
   "id": "d864e54d",
   "metadata": {},
   "outputs": [
    {
     "name": "stdout",
     "output_type": "stream",
     "text": [
      "<class 'pandas.core.frame.DataFrame'>\n",
      "Int64Index: 864 entries, 0 to 863\n",
      "Data columns (total 6 columns):\n",
      " #   Column            Non-Null Count  Dtype  \n",
      "---  ------            --------------  -----  \n",
      " 0   Año               864 non-null    int64  \n",
      " 1   Trimestre         864 non-null    int64  \n",
      " 2   Banda ancha fija  864 non-null    int64  \n",
      " 3   Dial up           862 non-null    float64\n",
      " 4   Total             864 non-null    int64  \n",
      " 5   ID                864 non-null    int64  \n",
      "dtypes: float64(1), int64(5)\n",
      "memory usage: 47.2 KB\n"
     ]
    }
   ],
   "source": [
    "df6.info()"
   ]
  },
  {
   "cell_type": "code",
   "execution_count": 291,
   "id": "90c37d72",
   "metadata": {},
   "outputs": [],
   "source": [
    "# Guardar el DataFrame en un archivo CSV\n",
    "df6.to_csv('./datasets_SQL/accesos_a_banda_ancha_y_banda_angosta_por_provincia.csv', index=False)"
   ]
  },
  {
   "cell_type": "markdown",
   "id": "0901a27b",
   "metadata": {},
   "source": [
    "# **Ingresos por la operación del servicio de Telecomunicaciones** "
   ]
  },
  {
   "cell_type": "code",
   "execution_count": 224,
   "id": "cea29869",
   "metadata": {},
   "outputs": [],
   "source": [
    "internet_fijo = pd.read_csv('datasets_cleaned/ingresos_por_operacion_del_servicio.csv')"
   ]
  },
  {
   "cell_type": "code",
   "execution_count": 225,
   "id": "bd73d1f9",
   "metadata": {},
   "outputs": [],
   "source": [
    "television = pd.read_csv('datasets_cleaned/Television.csv')"
   ]
  },
  {
   "cell_type": "code",
   "execution_count": 226,
   "id": "de4e5859",
   "metadata": {},
   "outputs": [],
   "source": [
    "telefonia_fija = pd.read_excel('datasets_cleaned/telefonia_fija.xlsx',sheet_name='Fija_ingresos')"
   ]
  },
  {
   "cell_type": "code",
   "execution_count": 227,
   "id": "f91c6ee9",
   "metadata": {},
   "outputs": [
    {
     "data": {
      "text/html": [
       "<div>\n",
       "<style scoped>\n",
       "    .dataframe tbody tr th:only-of-type {\n",
       "        vertical-align: middle;\n",
       "    }\n",
       "\n",
       "    .dataframe tbody tr th {\n",
       "        vertical-align: top;\n",
       "    }\n",
       "\n",
       "    .dataframe thead th {\n",
       "        text-align: right;\n",
       "    }\n",
       "</style>\n",
       "<table border=\"1\" class=\"dataframe\">\n",
       "  <thead>\n",
       "    <tr style=\"text-align: right;\">\n",
       "      <th></th>\n",
       "      <th>Año</th>\n",
       "      <th>Trimestre</th>\n",
       "      <th>Ingresos (miles de pesos)</th>\n",
       "    </tr>\n",
       "  </thead>\n",
       "  <tbody>\n",
       "    <tr>\n",
       "      <th>0</th>\n",
       "      <td>2022</td>\n",
       "      <td>4</td>\n",
       "      <td>72443482</td>\n",
       "    </tr>\n",
       "    <tr>\n",
       "      <th>1</th>\n",
       "      <td>2022</td>\n",
       "      <td>3</td>\n",
       "      <td>64086784</td>\n",
       "    </tr>\n",
       "    <tr>\n",
       "      <th>2</th>\n",
       "      <td>2022</td>\n",
       "      <td>2</td>\n",
       "      <td>60419500</td>\n",
       "    </tr>\n",
       "  </tbody>\n",
       "</table>\n",
       "</div>"
      ],
      "text/plain": [
       "    Año  Trimestre  Ingresos (miles de pesos)\n",
       "0  2022          4                   72443482\n",
       "1  2022          3                   64086784\n",
       "2  2022          2                   60419500"
      ]
     },
     "execution_count": 227,
     "metadata": {},
     "output_type": "execute_result"
    }
   ],
   "source": [
    "internet_fijo.head(3)"
   ]
  },
  {
   "cell_type": "code",
   "execution_count": 228,
   "id": "fbe97eb9",
   "metadata": {},
   "outputs": [],
   "source": [
    "# Renombrar la columna\n",
    "internet_fijo.rename(columns={'Ingresos (miles de pesos)': 'ingresos_internet'}, inplace=True)"
   ]
  },
  {
   "cell_type": "code",
   "execution_count": 229,
   "id": "7ef362d2",
   "metadata": {},
   "outputs": [
    {
     "data": {
      "text/html": [
       "<div>\n",
       "<style scoped>\n",
       "    .dataframe tbody tr th:only-of-type {\n",
       "        vertical-align: middle;\n",
       "    }\n",
       "\n",
       "    .dataframe tbody tr th {\n",
       "        vertical-align: top;\n",
       "    }\n",
       "\n",
       "    .dataframe thead th {\n",
       "        text-align: right;\n",
       "    }\n",
       "</style>\n",
       "<table border=\"1\" class=\"dataframe\">\n",
       "  <thead>\n",
       "    <tr style=\"text-align: right;\">\n",
       "      <th></th>\n",
       "      <th>Año</th>\n",
       "      <th>Trimestre</th>\n",
       "      <th>Ingresos TV por suscripción  (miles de $)</th>\n",
       "      <th>Ingresos TV satelital (miles de $)</th>\n",
       "    </tr>\n",
       "  </thead>\n",
       "  <tbody>\n",
       "    <tr>\n",
       "      <th>0</th>\n",
       "      <td>2022</td>\n",
       "      <td>4</td>\n",
       "      <td>62.432.903,15</td>\n",
       "      <td>29.721.126,94</td>\n",
       "    </tr>\n",
       "    <tr>\n",
       "      <th>1</th>\n",
       "      <td>2022</td>\n",
       "      <td>3</td>\n",
       "      <td>52.399.891,49</td>\n",
       "      <td>27.073.190,89</td>\n",
       "    </tr>\n",
       "    <tr>\n",
       "      <th>2</th>\n",
       "      <td>2022</td>\n",
       "      <td>2</td>\n",
       "      <td>46.322.065,49</td>\n",
       "      <td>23.559.484,83</td>\n",
       "    </tr>\n",
       "    <tr>\n",
       "      <th>3</th>\n",
       "      <td>2022</td>\n",
       "      <td>1</td>\n",
       "      <td>42.113.438,81</td>\n",
       "      <td>21.268.086,24</td>\n",
       "    </tr>\n",
       "    <tr>\n",
       "      <th>4</th>\n",
       "      <td>2021</td>\n",
       "      <td>4</td>\n",
       "      <td>38.273.391,80</td>\n",
       "      <td>18.038.065,44</td>\n",
       "    </tr>\n",
       "  </tbody>\n",
       "</table>\n",
       "</div>"
      ],
      "text/plain": [
       "    Año  Trimestre Ingresos TV por suscripción  (miles de $)  \\\n",
       "0  2022          4                             62.432.903,15   \n",
       "1  2022          3                             52.399.891,49   \n",
       "2  2022          2                             46.322.065,49   \n",
       "3  2022          1                             42.113.438,81   \n",
       "4  2021          4                             38.273.391,80   \n",
       "\n",
       "  Ingresos TV satelital (miles de $)  \n",
       "0                      29.721.126,94  \n",
       "1                      27.073.190,89  \n",
       "2                      23.559.484,83  \n",
       "3                      21.268.086,24  \n",
       "4                      18.038.065,44  "
      ]
     },
     "execution_count": 229,
     "metadata": {},
     "output_type": "execute_result"
    }
   ],
   "source": [
    "television.head()"
   ]
  },
  {
   "cell_type": "code",
   "execution_count": 230,
   "id": "a346fdbd",
   "metadata": {},
   "outputs": [
    {
     "data": {
      "text/html": [
       "<div>\n",
       "<style scoped>\n",
       "    .dataframe tbody tr th:only-of-type {\n",
       "        vertical-align: middle;\n",
       "    }\n",
       "\n",
       "    .dataframe tbody tr th {\n",
       "        vertical-align: top;\n",
       "    }\n",
       "\n",
       "    .dataframe thead th {\n",
       "        text-align: right;\n",
       "    }\n",
       "</style>\n",
       "<table border=\"1\" class=\"dataframe\">\n",
       "  <thead>\n",
       "    <tr style=\"text-align: right;\">\n",
       "      <th></th>\n",
       "      <th>Año</th>\n",
       "      <th>Trimestre</th>\n",
       "      <th>Ingresos (miles de $)</th>\n",
       "    </tr>\n",
       "  </thead>\n",
       "  <tbody>\n",
       "    <tr>\n",
       "      <th>0</th>\n",
       "      <td>2014</td>\n",
       "      <td>1</td>\n",
       "      <td>2916071.754</td>\n",
       "    </tr>\n",
       "    <tr>\n",
       "      <th>1</th>\n",
       "      <td>2014</td>\n",
       "      <td>2</td>\n",
       "      <td>2974865.204</td>\n",
       "    </tr>\n",
       "    <tr>\n",
       "      <th>2</th>\n",
       "      <td>2014</td>\n",
       "      <td>3</td>\n",
       "      <td>3105462.022</td>\n",
       "    </tr>\n",
       "    <tr>\n",
       "      <th>3</th>\n",
       "      <td>2014</td>\n",
       "      <td>4</td>\n",
       "      <td>3339690.895</td>\n",
       "    </tr>\n",
       "    <tr>\n",
       "      <th>4</th>\n",
       "      <td>2015</td>\n",
       "      <td>1</td>\n",
       "      <td>3260124.752</td>\n",
       "    </tr>\n",
       "  </tbody>\n",
       "</table>\n",
       "</div>"
      ],
      "text/plain": [
       "    Año  Trimestre  Ingresos (miles de $)\n",
       "0  2014          1            2916071.754\n",
       "1  2014          2            2974865.204\n",
       "2  2014          3            3105462.022\n",
       "3  2014          4            3339690.895\n",
       "4  2015          1            3260124.752"
      ]
     },
     "execution_count": 230,
     "metadata": {},
     "output_type": "execute_result"
    }
   ],
   "source": [
    "telefonia_fija.head()"
   ]
  },
  {
   "cell_type": "code",
   "execution_count": 231,
   "id": "418d877f",
   "metadata": {},
   "outputs": [],
   "source": [
    "# Renombrar la columna\n",
    "telefonia_fija.rename(columns={'Ingresos (miles de $)': 'ingresos_telefoniafija'}, inplace=True)"
   ]
  },
  {
   "cell_type": "code",
   "execution_count": 232,
   "id": "4e55ad25",
   "metadata": {},
   "outputs": [
    {
     "data": {
      "text/html": [
       "<div>\n",
       "<style scoped>\n",
       "    .dataframe tbody tr th:only-of-type {\n",
       "        vertical-align: middle;\n",
       "    }\n",
       "\n",
       "    .dataframe tbody tr th {\n",
       "        vertical-align: top;\n",
       "    }\n",
       "\n",
       "    .dataframe thead th {\n",
       "        text-align: right;\n",
       "    }\n",
       "</style>\n",
       "<table border=\"1\" class=\"dataframe\">\n",
       "  <thead>\n",
       "    <tr style=\"text-align: right;\">\n",
       "      <th></th>\n",
       "      <th>Año</th>\n",
       "      <th>Trimestre</th>\n",
       "      <th>ingresos_telefoniafija</th>\n",
       "    </tr>\n",
       "  </thead>\n",
       "  <tbody>\n",
       "    <tr>\n",
       "      <th>31</th>\n",
       "      <td>2021</td>\n",
       "      <td>4</td>\n",
       "      <td>4.061606e+07</td>\n",
       "    </tr>\n",
       "    <tr>\n",
       "      <th>32</th>\n",
       "      <td>2022</td>\n",
       "      <td>1</td>\n",
       "      <td>3.058334e+07</td>\n",
       "    </tr>\n",
       "    <tr>\n",
       "      <th>33</th>\n",
       "      <td>2022</td>\n",
       "      <td>2</td>\n",
       "      <td>3.125818e+07</td>\n",
       "    </tr>\n",
       "    <tr>\n",
       "      <th>34</th>\n",
       "      <td>2022</td>\n",
       "      <td>3</td>\n",
       "      <td>2.969851e+07</td>\n",
       "    </tr>\n",
       "    <tr>\n",
       "      <th>35</th>\n",
       "      <td>2022</td>\n",
       "      <td>4</td>\n",
       "      <td>3.235691e+07</td>\n",
       "    </tr>\n",
       "  </tbody>\n",
       "</table>\n",
       "</div>"
      ],
      "text/plain": [
       "     Año  Trimestre  ingresos_telefoniafija\n",
       "31  2021          4            4.061606e+07\n",
       "32  2022          1            3.058334e+07\n",
       "33  2022          2            3.125818e+07\n",
       "34  2022          3            2.969851e+07\n",
       "35  2022          4            3.235691e+07"
      ]
     },
     "execution_count": 232,
     "metadata": {},
     "output_type": "execute_result"
    }
   ],
   "source": [
    "telefonia_fija.tail()"
   ]
  },
  {
   "cell_type": "code",
   "execution_count": 233,
   "id": "29098baa",
   "metadata": {},
   "outputs": [
    {
     "name": "stdout",
     "output_type": "stream",
     "text": [
      "<class 'pandas.core.frame.DataFrame'>\n",
      "RangeIndex: 36 entries, 0 to 35\n",
      "Data columns (total 3 columns):\n",
      " #   Column                  Non-Null Count  Dtype  \n",
      "---  ------                  --------------  -----  \n",
      " 0   Año                     36 non-null     int64  \n",
      " 1   Trimestre               36 non-null     int64  \n",
      " 2   ingresos_telefoniafija  36 non-null     float64\n",
      "dtypes: float64(1), int64(2)\n",
      "memory usage: 996.0 bytes\n"
     ]
    }
   ],
   "source": [
    "telefonia_fija.info()"
   ]
  },
  {
   "cell_type": "code",
   "execution_count": 234,
   "id": "bc9f649c",
   "metadata": {},
   "outputs": [],
   "source": [
    "# Fusionar los conjuntos de datos utilizando 'Año' y 'Trimestre' como claves de fusión\n",
    "df_final = internet_fijo.merge(television, on=['Año', 'Trimestre'], how='outer').merge(telefonia_fija, on=['Año', 'Trimestre'], how='outer')"
   ]
  },
  {
   "cell_type": "code",
   "execution_count": 235,
   "id": "85e42411",
   "metadata": {},
   "outputs": [
    {
     "data": {
      "text/html": [
       "<div>\n",
       "<style scoped>\n",
       "    .dataframe tbody tr th:only-of-type {\n",
       "        vertical-align: middle;\n",
       "    }\n",
       "\n",
       "    .dataframe tbody tr th {\n",
       "        vertical-align: top;\n",
       "    }\n",
       "\n",
       "    .dataframe thead th {\n",
       "        text-align: right;\n",
       "    }\n",
       "</style>\n",
       "<table border=\"1\" class=\"dataframe\">\n",
       "  <thead>\n",
       "    <tr style=\"text-align: right;\">\n",
       "      <th></th>\n",
       "      <th>Año</th>\n",
       "      <th>Trimestre</th>\n",
       "      <th>ingresos_internet</th>\n",
       "      <th>Ingresos TV por suscripción  (miles de $)</th>\n",
       "      <th>Ingresos TV satelital (miles de $)</th>\n",
       "      <th>ingresos_telefoniafija</th>\n",
       "    </tr>\n",
       "  </thead>\n",
       "  <tbody>\n",
       "    <tr>\n",
       "      <th>0</th>\n",
       "      <td>2022</td>\n",
       "      <td>4</td>\n",
       "      <td>72443482</td>\n",
       "      <td>62.432.903,15</td>\n",
       "      <td>29.721.126,94</td>\n",
       "      <td>3.235691e+07</td>\n",
       "    </tr>\n",
       "    <tr>\n",
       "      <th>1</th>\n",
       "      <td>2022</td>\n",
       "      <td>3</td>\n",
       "      <td>64086784</td>\n",
       "      <td>52.399.891,49</td>\n",
       "      <td>27.073.190,89</td>\n",
       "      <td>2.969851e+07</td>\n",
       "    </tr>\n",
       "    <tr>\n",
       "      <th>2</th>\n",
       "      <td>2022</td>\n",
       "      <td>2</td>\n",
       "      <td>60419500</td>\n",
       "      <td>46.322.065,49</td>\n",
       "      <td>23.559.484,83</td>\n",
       "      <td>3.125818e+07</td>\n",
       "    </tr>\n",
       "    <tr>\n",
       "      <th>3</th>\n",
       "      <td>2022</td>\n",
       "      <td>1</td>\n",
       "      <td>55219313</td>\n",
       "      <td>42.113.438,81</td>\n",
       "      <td>21.268.086,24</td>\n",
       "      <td>3.058334e+07</td>\n",
       "    </tr>\n",
       "    <tr>\n",
       "      <th>4</th>\n",
       "      <td>2021</td>\n",
       "      <td>4</td>\n",
       "      <td>45467887</td>\n",
       "      <td>38.273.391,80</td>\n",
       "      <td>18.038.065,44</td>\n",
       "      <td>4.061606e+07</td>\n",
       "    </tr>\n",
       "  </tbody>\n",
       "</table>\n",
       "</div>"
      ],
      "text/plain": [
       "    Año  Trimestre  ingresos_internet  \\\n",
       "0  2022          4           72443482   \n",
       "1  2022          3           64086784   \n",
       "2  2022          2           60419500   \n",
       "3  2022          1           55219313   \n",
       "4  2021          4           45467887   \n",
       "\n",
       "  Ingresos TV por suscripción  (miles de $)  \\\n",
       "0                             62.432.903,15   \n",
       "1                             52.399.891,49   \n",
       "2                             46.322.065,49   \n",
       "3                             42.113.438,81   \n",
       "4                             38.273.391,80   \n",
       "\n",
       "  Ingresos TV satelital (miles de $)  ingresos_telefoniafija  \n",
       "0                      29.721.126,94            3.235691e+07  \n",
       "1                      27.073.190,89            2.969851e+07  \n",
       "2                      23.559.484,83            3.125818e+07  \n",
       "3                      21.268.086,24            3.058334e+07  \n",
       "4                      18.038.065,44            4.061606e+07  "
      ]
     },
     "execution_count": 235,
     "metadata": {},
     "output_type": "execute_result"
    }
   ],
   "source": [
    "df_final.head()"
   ]
  },
  {
   "cell_type": "code",
   "execution_count": 222,
   "id": "4e088db8",
   "metadata": {},
   "outputs": [
    {
     "name": "stdout",
     "output_type": "stream",
     "text": [
      "<class 'pandas.core.frame.DataFrame'>\n",
      "Int64Index: 36 entries, 0 to 35\n",
      "Data columns (total 6 columns):\n",
      " #   Column                                     Non-Null Count  Dtype  \n",
      "---  ------                                     --------------  -----  \n",
      " 0   Año                                        36 non-null     int64  \n",
      " 1   Trimestre                                  36 non-null     int64  \n",
      " 2   ingresos_internet                          36 non-null     int64  \n",
      " 3   Ingresos TV por suscripción  (miles de $)  36 non-null     object \n",
      " 4   Ingresos TV satelital (miles de $)         36 non-null     object \n",
      " 5   ingresos_telefoniafija                     36 non-null     float64\n",
      "dtypes: float64(1), int64(3), object(2)\n",
      "memory usage: 2.0+ KB\n"
     ]
    }
   ],
   "source": [
    "df_final.info()"
   ]
  },
  {
   "cell_type": "code",
   "execution_count": 237,
   "id": "e45a2743",
   "metadata": {},
   "outputs": [],
   "source": [
    "# Reemplazar los puntos por nada en la columna específica\n",
    "df_final['Ingresos TV por suscripción  (miles de $)'] = df_final['Ingresos TV por suscripción  (miles de $)'].replace({'\\.': ''}, regex=True)\n",
    "df_final['Ingresos TV satelital (miles de $)'] = df_final['Ingresos TV satelital (miles de $)'].replace({'\\.': ''}, regex=True)\n",
    "\n",
    "# Reemplazar las comas por puntos en la misma columna\n",
    "df_final['Ingresos TV por suscripción  (miles de $)'] = df_final['Ingresos TV por suscripción  (miles de $)'].replace({',': '.'}, regex=True).astype(float)\n",
    "df_final['Ingresos TV satelital (miles de $)'] = df_final['Ingresos TV satelital (miles de $)'].replace({',': '.'}, regex=True).astype(float)\n",
    "\n"
   ]
  },
  {
   "cell_type": "code",
   "execution_count": 238,
   "id": "19922771",
   "metadata": {},
   "outputs": [
    {
     "name": "stdout",
     "output_type": "stream",
     "text": [
      "<class 'pandas.core.frame.DataFrame'>\n",
      "Int64Index: 36 entries, 0 to 35\n",
      "Data columns (total 6 columns):\n",
      " #   Column                                     Non-Null Count  Dtype  \n",
      "---  ------                                     --------------  -----  \n",
      " 0   Año                                        36 non-null     int64  \n",
      " 1   Trimestre                                  36 non-null     int64  \n",
      " 2   ingresos_internet                          36 non-null     int64  \n",
      " 3   Ingresos TV por suscripción  (miles de $)  36 non-null     float64\n",
      " 4   Ingresos TV satelital (miles de $)         36 non-null     float64\n",
      " 5   ingresos_telefoniafija                     36 non-null     float64\n",
      "dtypes: float64(3), int64(3)\n",
      "memory usage: 2.0 KB\n"
     ]
    }
   ],
   "source": [
    "df_final.info()"
   ]
  },
  {
   "cell_type": "code",
   "execution_count": 239,
   "id": "07fe4088",
   "metadata": {},
   "outputs": [],
   "source": [
    "# Guardar el DataFrame en un archivo CSV\n",
    "df_final.to_csv('./datasets_SQL/ingresos_por_operacion_del_servicio_telecomunicaciones.csv', index=False)"
   ]
  },
  {
   "cell_type": "code",
   "execution_count": 294,
   "id": "3c016851",
   "metadata": {},
   "outputs": [
    {
     "data": {
      "text/plain": [
       "Index(['Año', 'Trimestre', 'ingresos_internet',\n",
       "       'Ingresos TV por suscripción  (miles de $)',\n",
       "       'Ingresos TV satelital (miles de $)', 'ingresos_telefoniafija'],\n",
       "      dtype='object')"
      ]
     },
     "execution_count": 294,
     "metadata": {},
     "output_type": "execute_result"
    }
   ],
   "source": [
    "df_final.columns"
   ]
  },
  {
   "cell_type": "code",
   "execution_count": null,
   "id": "27ab75bd",
   "metadata": {},
   "outputs": [],
   "source": []
  }
 ],
 "metadata": {
  "kernelspec": {
   "display_name": "Python 3 (ipykernel)",
   "language": "python",
   "name": "python3"
  },
  "language_info": {
   "codemirror_mode": {
    "name": "ipython",
    "version": 3
   },
   "file_extension": ".py",
   "mimetype": "text/x-python",
   "name": "python",
   "nbconvert_exporter": "python",
   "pygments_lexer": "ipython3",
   "version": "3.11.4"
  }
 },
 "nbformat": 4,
 "nbformat_minor": 5
}
